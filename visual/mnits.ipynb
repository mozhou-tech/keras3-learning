{
 "cells": [
  {
   "cell_type": "code",
   "execution_count": null,
   "outputs": [
    {
     "name": "stdout",
     "output_type": "stream",
     "text": [
      "Looking in indexes: https://pypi.tuna.tsinghua.edu.cn/simple\r\n",
      "Requirement already satisfied: keras in /Users/mozhou/Library/Caches/pypoetry/virtualenvs/keras3-learning-lCOW1uYo-py3.11/lib/python3.11/site-packages (3.0.0)\r\n",
      "Requirement already satisfied: absl-py in /Users/mozhou/Library/Caches/pypoetry/virtualenvs/keras3-learning-lCOW1uYo-py3.11/lib/python3.11/site-packages (from keras) (2.0.0)\r\n",
      "Requirement already satisfied: numpy in /Users/mozhou/Library/Caches/pypoetry/virtualenvs/keras3-learning-lCOW1uYo-py3.11/lib/python3.11/site-packages (from keras) (1.26.2)\r\n",
      "Requirement already satisfied: rich in /Users/mozhou/Library/Caches/pypoetry/virtualenvs/keras3-learning-lCOW1uYo-py3.11/lib/python3.11/site-packages (from keras) (13.7.0)\r\n",
      "Requirement already satisfied: namex in /Users/mozhou/Library/Caches/pypoetry/virtualenvs/keras3-learning-lCOW1uYo-py3.11/lib/python3.11/site-packages (from keras) (0.0.7)\r\n",
      "Requirement already satisfied: h5py in /Users/mozhou/Library/Caches/pypoetry/virtualenvs/keras3-learning-lCOW1uYo-py3.11/lib/python3.11/site-packages (from keras) (3.10.0)\r\n",
      "Requirement already satisfied: dm-tree in /Users/mozhou/Library/Caches/pypoetry/virtualenvs/keras3-learning-lCOW1uYo-py3.11/lib/python3.11/site-packages (from keras) (0.1.8)\r\n",
      "Requirement already satisfied: markdown-it-py>=2.2.0 in /Users/mozhou/Library/Caches/pypoetry/virtualenvs/keras3-learning-lCOW1uYo-py3.11/lib/python3.11/site-packages (from rich->keras) (3.0.0)\r\n",
      "Requirement already satisfied: pygments<3.0.0,>=2.13.0 in /Users/mozhou/Library/Caches/pypoetry/virtualenvs/keras3-learning-lCOW1uYo-py3.11/lib/python3.11/site-packages (from rich->keras) (2.17.2)\r\n",
      "Requirement already satisfied: mdurl~=0.1 in /Users/mozhou/Library/Caches/pypoetry/virtualenvs/keras3-learning-lCOW1uYo-py3.11/lib/python3.11/site-packages (from markdown-it-py>=2.2.0->rich->keras) (0.1.2)\r\n",
      "Looking in indexes: https://pypi.tuna.tsinghua.edu.cn/simple\r\n",
      "Collecting tensorflow\r\n",
      "  Downloading https://pypi.tuna.tsinghua.edu.cn/packages/85/15/cf99a373812d37f8ae99752a34a9f5f690d820ceb5b302e922705bc18944/tensorflow-2.15.0-cp311-cp311-macosx_12_0_arm64.whl (2.1 kB)\r\n",
      "Collecting tensorflow-macos==2.15.0 (from tensorflow)\r\n",
      "  Downloading https://pypi.tuna.tsinghua.edu.cn/packages/eb/9f/0759e2fea4a3c48f070b64811c2c57036b46353ba87263afc810b8f4188a/tensorflow_macos-2.15.0-cp311-cp311-macosx_12_0_arm64.whl (208.8 MB)\r\n",
      "\u001B[2K     \u001B[91m━━━━━━━━━━━━\u001B[0m\u001B[90m╺\u001B[0m\u001B[90m━━━━━━━━━━━━━━━━━━━━━━━━━━━\u001B[0m \u001B[32m62.7/208.8 MB\u001B[0m \u001B[31m1.4 MB/s\u001B[0m eta \u001B[36m0:01:47\u001B[0m"
     ]
    }
   ],
   "source": [
    "!pip install keras\n",
    "!pip install tensorflow\n",
    "import sys\n",
    "print(sys.executable)\n",
    "import keras\n",
    "print(keras.__version__)"
   ],
   "metadata": {
    "collapsed": false,
    "is_executing": true,
    "ExecuteTime": {
     "start_time": "2023-11-30T03:52:31.693212Z"
    }
   },
   "id": "9378d0671b9dbc87"
  },
  {
   "cell_type": "code",
   "execution_count": null,
   "outputs": [],
   "source": [
    "\"\"\"MNIST handwritten digits dataset.\"\"\"\n",
    "\n",
    "import numpy as np\n",
    "\n",
    "from keras.api_export import keras_export\n",
    "from keras.utils.file_utils import get_file\n",
    "\n",
    "\n",
    "@keras_export(\"keras.datasets.mnist.load_data\")\n",
    "def load_data(path=\"mnist.npz\"):\n",
    "    \"\"\"Loads the MNIST dataset.\n",
    "\n",
    "    This is a dataset of 60,000 28x28 grayscale images of the 10 digits,\n",
    "    along with a test set of 10,000 images.\n",
    "    More info can be found at the\n",
    "    [MNIST homepage](http://yann.lecun.com/exdb/mnist/).\n",
    "\n",
    "    Args:\n",
    "        path: path where to cache the dataset locally\n",
    "            (relative to `~/.keras/datasets`).\n",
    "\n",
    "    Returns:\n",
    "        Tuple of NumPy arrays: `(x_train, y_train), (x_test, y_test)`.\n",
    "\n",
    "    **`x_train`**: `uint8` NumPy array of grayscale image data with shapes\n",
    "      `(60000, 28, 28)`, containing the training data. Pixel values range\n",
    "      from 0 to 255.\n",
    "\n",
    "    **`y_train`**: `uint8` NumPy array of digit labels (integers in range 0-9)\n",
    "      with shape `(60000,)` for the training data.\n",
    "\n",
    "    **`x_test`**: `uint8` NumPy array of grayscale image data with shapes\n",
    "      `(10000, 28, 28)`, containing the test data. Pixel values range\n",
    "      from 0 to 255.\n",
    "\n",
    "    **`y_test`**: `uint8` NumPy array of digit labels (integers in range 0-9)\n",
    "      with shape `(10000,)` for the test data.\n",
    "\n",
    "    Example:\n",
    "\n",
    "    ```python\n",
    "    (x_train, y_train), (x_test, y_test) = keras.datasets.mnist.load_data()\n",
    "    assert x_train.shape == (60000, 28, 28)\n",
    "    assert x_test.shape == (10000, 28, 28)\n",
    "    assert y_train.shape == (60000,)\n",
    "    assert y_test.shape == (10000,)\n",
    "    ```\n",
    "\n",
    "    License:\n",
    "\n",
    "    Yann LeCun and Corinna Cortes hold the copyright of MNIST dataset,\n",
    "    which is a derivative work from original NIST datasets.\n",
    "    MNIST dataset is made available under the terms of the\n",
    "    [Creative Commons Attribution-Share Alike 3.0 license.](\n",
    "        https://creativecommons.org/licenses/by-sa/3.0/)\n",
    "    \"\"\"\n",
    "    origin_folder = (\n",
    "        \"https://storage.googleapis.com/tensorflow/tf-keras-datasets/\"\n",
    "    )\n",
    "    path = get_file(\n",
    "        fname=path,\n",
    "        origin=origin_folder + \"mnist.npz\",\n",
    "        file_hash=(  # noqa: E501\n",
    "            \"731c5ac602752760c8e48fbffcf8c3b850d9dc2a2aedcf2cc48468fc17b673d1\"\n",
    "        ),\n",
    "    )\n",
    "    with np.load(path, allow_pickle=True) as f:\n",
    "        x_train, y_train = f[\"x_train\"], f[\"y_train\"]\n",
    "        x_test, y_test = f[\"x_test\"], f[\"y_test\"]\n",
    "\n",
    "        return (x_train, y_train), (x_test, y_test)"
   ],
   "metadata": {
    "collapsed": false
   },
   "id": "initial_id"
  },
  {
   "cell_type": "code",
   "execution_count": null,
   "outputs": [],
   "source": [],
   "metadata": {
    "collapsed": false
   },
   "id": "5081414e7e2e4c6"
  }
 ],
 "metadata": {
  "kernelspec": {
   "display_name": "Python 3",
   "language": "python",
   "name": "python3"
  },
  "language_info": {
   "codemirror_mode": {
    "name": "ipython",
    "version": 2
   },
   "file_extension": ".py",
   "mimetype": "text/x-python",
   "name": "python",
   "nbconvert_exporter": "python",
   "pygments_lexer": "ipython2",
   "version": "2.7.6"
  }
 },
 "nbformat": 4,
 "nbformat_minor": 5
}
